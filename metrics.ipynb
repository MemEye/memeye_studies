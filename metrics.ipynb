{
 "cells": [
  {
   "cell_type": "code",
   "execution_count": null,
   "metadata": {},
   "outputs": [],
   "source": [
    "from model import LSTMModel\n",
    "import torch\n",
    "import sklearn.metrics as metrics"
   ]
  },
  {
   "cell_type": "code",
   "execution_count": null,
   "metadata": {},
   "outputs": [],
   "source": [
    "def get_metrics(model_name,model,dataloader):\n",
    "    model.eval()\n",
    "    total_correct=0\n",
    "    total=0\n",
    "    tp=[0]*4\n",
    "    fp=[0]*4\n",
    "    fn=[0]*4\n",
    "    tn=[0]*4\n",
    "    dict=[]\n",
    "    for i in range(4):\n",
    "        dict.append([0]*4)\n",
    "    for i,(x,y) in enumerate(dataloader):\n",
    "        y_pred=model(x)\n",
    "        y_pred=torch.argmax(y_pred,dim=1)\n",
    "        y=torch.argmax(y,dim=1)\n",
    "        total_correct+=torch.sum(y_pred==y).item()\n",
    "        total+=len(y)\n",
    "        for i in range(4):\n",
    "            tp[i]+=torch.sum((y_pred==i)&(y==i)).item()\n",
    "            fp[i]+=torch.sum((y_pred==i)&(y!=i)).item()\n",
    "            fn[i]+=torch.sum((y_pred!=i)&(y==i)).item()\n",
    "            tn[i]+=torch.sum((y_pred!=i)&(y!=i)).item()\n",
    "        for j in range(len(y)):\n",
    "            dict[y_pred[j]][y[j]]+=1\n",
    "    acc=total_correct/total\n",
    "    accuracy_per_class=[0]*4\n",
    "    precision=[0]*4\n",
    "    recall=[0]*4\n",
    "    f1=[0]*4\n",
    "    for i in range(4):\n",
    "        accuracy_per_class[i]=tp[i]/(tp[i]+fn[i])\n",
    "        if tp[i]+fp[i]!=0:\n",
    "            precision[i]=tp[i]/(tp[i]+fp[i])\n",
    "        if tp[i]+fn[i]!=0:\n",
    "            recall[i]=tp[i]/(tp[i]+fn[i])\n",
    "        if precision[i]+recall[i]!=0:\n",
    "            f1[i]=2*precision[i]*recall[i]/(precision[i]+recall[i])\n",
    "\n",
    "    print('Accuracy:',acc)\n",
    "    fpr=[fp[i]/(fp[i]+tn[i]) for i in range(4)]\n",
    "    fnr=[fn[i]/(fn[i]+tp[i]) for i in range(4)]\n",
    "    print('Classes:',['negative','learning','recall','recognition_familiar'])\n",
    "    for i in range(4):\n",
    "        print(accuracy_per_class[i],f1[i],recall[i],precision[i],fpr[i],fp[i],fnr[i],fn[i])\n",
    "    print('Confusion matrix:')\n",
    "    print(dict)\n",
    "\n",
    "\n"
   ]
  },
  {
   "cell_type": "code",
   "execution_count": null,
   "metadata": {},
   "outputs": [],
   "source": [
    "for x in ['model2.5/2_16/model53.pt','model2.5/2_32/model23.pt','model2.5/2_64/model30.pt','model2.5/3_16/model63.pt','model2.5/3_32/model29.pt','model2.5/3_64/model26.pt','model2.5/4_10/model29.pt','model2.5/4_16/model51.pt','model2.5/4_32/model48.pt','model2.5/4_64/model64.pt']:\n",
    "    print(x)\n",
    "    second=x.split('/')[0]\n",
    "    second=second[5:]\n",
    "    val_dataloader=torch.load('val'+second+'_dataloader.pt')\n",
    "    test_dataloader=torch.load('test'+second+'_dataloader.pt')\n",
    "    model=torch.load(x)\n",
    "    get_metrics(x,model,val_dataloader)\n",
    "    get_metrics(x,model,test_dataloader)"
   ]
  },
  {
   "cell_type": "code",
   "execution_count": null,
   "metadata": {},
   "outputs": [],
   "source": [
    "for x in ['model3/2_16/model45.pt','model3/2_32/model20.pt','model3/2_64/model25.pt','model3/3_16/model39.pt','model3/3_32/model29.pt','model3/3_64/model26.pt','model3/4_10/model30.pt','model3/4_16/model45.pt','model3/4_32/model37.pt','model3/4_64/model66.pt']:\n",
    "    print(x)\n",
    "    second=x.split('/')[0]\n",
    "    second=second[5:]\n",
    "    val_dataloader=torch.load('val'+second+'_dataloader.pt')\n",
    "    test_dataloader=torch.load('test'+second+'_dataloader.pt')\n",
    "    model=torch.load(x)\n",
    "    get_metrics(x,model,val_dataloader)\n",
    "    get_metrics(x,model,test_dataloader)"
   ]
  },
  {
   "cell_type": "code",
   "execution_count": null,
   "metadata": {},
   "outputs": [],
   "source": [
    "for x in ['model3.5/2_16/model43.pt','model3.5/2_32/model39.pt','model3.5/2_64/model31.pt','model3.5/3_16/model27.pt','model3.5/3_32/model29.pt','model3.5/3_64/model29.pt','model3.5/4_10/model56.pt','model3.5/4_16/model50.pt','model3.5/4_32/model23.pt','model3.5/4_64/model68.pt']:\n",
    "    print(x)\n",
    "    second=x.split('/')[0]\n",
    "    second=second[5:]\n",
    "    val_dataloader=torch.load('val'+second+'_dataloader.pt')\n",
    "    test_dataloader=torch.load('test'+second+'_dataloader.pt')\n",
    "    model=torch.load(x)\n",
    "    get_metrics(x,model,val_dataloader)\n",
    "    get_metrics(x,model,test_dataloader)"
   ]
  }
 ],
 "metadata": {
  "kernelspec": {
   "display_name": "base",
   "language": "python",
   "name": "python3"
  },
  "language_info": {
   "codemirror_mode": {
    "name": "ipython",
    "version": 3
   },
   "file_extension": ".py",
   "mimetype": "text/x-python",
   "name": "python",
   "nbconvert_exporter": "python",
   "pygments_lexer": "ipython3",
   "version": "3.9.10"
  }
 },
 "nbformat": 4,
 "nbformat_minor": 2
}

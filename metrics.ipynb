{
 "cells": [
  {
   "cell_type": "code",
   "execution_count": 1,
   "metadata": {},
   "outputs": [],
   "source": [
    "from model import LSTMModel\n",
    "import torch\n",
    "import sklearn.metrics as metrics"
   ]
  },
  {
   "cell_type": "code",
   "execution_count": 2,
   "metadata": {},
   "outputs": [],
   "source": [
    "def get_metrics(model_name,model,dataloader):\n",
    "    model.eval()\n",
    "    num_class=4\n",
    "    total_correct=0\n",
    "    total=0\n",
    "    tp=[0]*num_class\n",
    "    fp=[0]*num_class\n",
    "    fn=[0]*num_class\n",
    "    tn=[0]*num_class\n",
    "    dict=[]\n",
    "    for i in range(num_class):\n",
    "        dict.append([0]*num_class)\n",
    "    for i,(x,y) in enumerate(dataloader):\n",
    "        y_pred=model(x)\n",
    "        y_pred=torch.argmax(y_pred,dim=1)\n",
    "        y=torch.argmax(y,dim=1)\n",
    "        total_correct+=torch.sum(y_pred==y).item()\n",
    "        total+=len(y)\n",
    "        for i in range(num_class):\n",
    "            tp[i]+=torch.sum((y_pred==i)&(y==i)).item()\n",
    "            fp[i]+=torch.sum((y_pred==i)&(y!=i)).item()\n",
    "            fn[i]+=torch.sum((y_pred!=i)&(y==i)).item()\n",
    "            tn[i]+=torch.sum((y_pred!=i)&(y!=i)).item()\n",
    "        for j in range(len(y)):\n",
    "            dict[y_pred[j]][y[j]]+=1\n",
    "    acc=total_correct/total\n",
    "    accuracy_per_class=[0]*num_class    \n",
    "    precision=[0]*num_class\n",
    "    recall=[0]*num_class\n",
    "    f1=[0]*num_class\n",
    "    for i in range(num_class):\n",
    "        accuracy_per_class[i]=tp[i]/(tp[i]+fn[i])\n",
    "        if tp[i]+fp[i]!=0:\n",
    "            precision[i]=tp[i]/(tp[i]+fp[i])\n",
    "        if tp[i]+fn[i]!=0:\n",
    "            recall[i]=tp[i]/(tp[i]+fn[i])\n",
    "        if precision[i]+recall[i]!=0:\n",
    "            f1[i]=2*precision[i]*recall[i]/(precision[i]+recall[i])\n",
    "\n",
    "    print('Accuracy:',acc)\n",
    "    fpr=[fp[i]/(fp[i]+tn[i]) for i in range(num_class)]\n",
    "    fnr=[fn[i]/(fn[i]+tp[i]) for i in range(num_class)]\n",
    "    print('Classes:',['negative','learning','recall','recognition_familiar'])\n",
    "    for i in range(num_class):\n",
    "        print(accuracy_per_class[i],f1[i],recall[i],precision[i],fpr[i],fp[i],fnr[i],fn[i])\n",
    "    print('Confusion matrix:')\n",
    "    print(dict)\n",
    "\n",
    "\n"
   ]
  },
  {
   "cell_type": "code",
   "execution_count": null,
   "metadata": {},
   "outputs": [],
   "source": [
    "for x in ['model2.5/2_16/model53.pt','model2.5/2_32/model23.pt','model2.5/2_64/model30.pt','model2.5/3_16/model63.pt','model2.5/3_32/model29.pt','model2.5/3_64/model26.pt','model2.5/4_10/model29.pt','model2.5/4_16/model51.pt','model2.5/4_32/model48.pt','model2.5/4_64/model64.pt']:\n",
    "    print(x)\n",
    "    second=x.split('/')[0]\n",
    "    second=second[5:]\n",
    "    val_dataloader=torch.load('val'+second+'_dataloader.pt')\n",
    "    test_dataloader=torch.load('test'+second+'_dataloader.pt')\n",
    "    model=torch.load(x)\n",
    "    get_metrics(x,model,val_dataloader)\n",
    "    get_metrics(x,model,test_dataloader)"
   ]
  },
  {
   "cell_type": "code",
   "execution_count": null,
   "metadata": {},
   "outputs": [],
   "source": [
    "for x in ['model3/2_16/model45.pt','model3/2_32/model20.pt','model3/2_64/model25.pt','model3/3_16/model39.pt','model3/3_32/model29.pt','model3/3_64/model26.pt','model3/4_10/model30.pt','model3/4_16/model45.pt','model3/4_32/model37.pt','model3/4_64/model66.pt']:\n",
    "    print(x)\n",
    "    second=x.split('/')[0]\n",
    "    second=second[5:]\n",
    "    val_dataloader=torch.load('val'+second+'_dataloader.pt')\n",
    "    test_dataloader=torch.load('test'+second+'_dataloader.pt')\n",
    "    model=torch.load(x)\n",
    "    get_metrics(x,model,val_dataloader)\n",
    "    get_metrics(x,model,test_dataloader)"
   ]
  },
  {
   "cell_type": "code",
   "execution_count": 8,
   "metadata": {},
   "outputs": [
    {
     "name": "stdout",
     "output_type": "stream",
     "text": [
      "model3/3_16/model39.pt\n",
      "Accuracy: 0.8468468468468469\n",
      "Classes: ['negative', 'learning', 'recall', 'recognition_familiar']\n",
      "0.8537794299876085 0.9107732980832783 0.8537794299876085 0.9759206798866855 0.026729559748427674 17 0.14622057001239158 118\n",
      "0.8043478260869565 0.8505747126436782 0.8043478260869565 0.9024390243902439 0.02056555269922879 24 0.1956521739130435 54\n",
      "0.8833333333333333 0.6666666666666666 0.8833333333333333 0.5353535353535354 0.10926365795724466 138 0.11666666666666667 21\n",
      "0.8444444444444444 0.8128342245989305 0.8444444444444444 0.7835051546391752 0.0332541567695962 42 0.15555555555555556 28\n",
      "Confusion matrix:\n",
      "[[689, 2, 14, 1], [2, 222, 3, 19], [112, 18, 159, 8], [4, 34, 4, 152]]\n",
      "Accuracy: 0.8660455486542443\n",
      "Classes: ['negative', 'learning', 'recall', 'recognition_familiar']\n",
      "0.9062286105407256 0.9345332627492501 0.9062286105407256 0.9646630236794171 0.05083857442348008 97 0.09377138945927448 274\n",
      "0.822463768115942 0.8397040690505548 0.822463768115942 0.8576826196473551 0.028235882058970516 113 0.17753623188405798 147\n",
      "0.8148148148148148 0.6875 0.8148148148148148 0.5945945945945946 0.06993006993006994 300 0.18518518518518517 100\n",
      "0.7666666666666667 0.7589367552703942 0.7666666666666667 0.7513611615245009 0.03193473193473193 137 0.23333333333333334 126\n",
      "Confusion matrix:\n",
      "[[2648, 8, 84, 5], [18, 681, 6, 89], [216, 52, 440, 32], [40, 87, 10, 414]]\n"
     ]
    }
   ],
   "source": [
    "for x in ['model3/3_16/model39.pt']:\n",
    "    print(x)\n",
    "    second=x.split('/')[0]\n",
    "    second=second[5:]\n",
    "    train_dataloader=torch.load('train'+second+'_dataloader.pt')\n",
    "    val_dataloader=torch.load('val'+second+'_dataloader.pt')\n",
    "    test_dataloader=torch.load('test'+second+'_dataloader.pt')\n",
    "    model=torch.load(x)\n",
    "    #get_metrics(x,model,train_dataloader)\n",
    "    get_metrics(x,model,val_dataloader)\n",
    "    get_metrics(x,model,test_dataloader)"
   ]
  },
  {
   "cell_type": "code",
   "execution_count": null,
   "metadata": {},
   "outputs": [],
   "source": [
    "arr=[[757, 12, 4, 6, 1, 0], [57, 339, 10, 3, 7, 0], [3, 2, 31, 15, 52, 4], [10, 5, 21, 23, 37, 4], [5, 7, 91, 62, 144, 19], [1, 0, 2, 2, 2, 0]]\n",
    "#Plot confusion matrix\n",
    "import matplotlib.pyplot as plt\n",
    "import numpy as np\n",
    "\n",
    "fig, ax = plt.subplots()\n",
    "#Show values\n",
    "for i in range(6):\n",
    "    for j in range(6):\n",
    "        ax.text(j, i, arr[i][j], ha='center', va='center', color='black')\n",
    "cax = ax.matshow(arr, cmap='Blues')\n",
    "fig.colorbar(cax)\n",
    "#Make bigger plot\n",
    "fig.set_size_inches(10, 10)\n",
    "plt.xticks(np.arange(6),['negative','learning','recall_correct','recall_fail','recognition_correct','recognition_fail'])\n",
    "plt.yticks(np.arange(6),['negative','learning','recall_correct','recall_fail','recognition_correct','recognition_fail'])\n",
    "plt.xlabel('True label')\n",
    "plt.ylabel('Predicted label')\n",
    "\n"
   ]
  },
  {
   "cell_type": "code",
   "execution_count": null,
   "metadata": {},
   "outputs": [],
   "source": [
    "for x in ['model3.5/2_16/model43.pt','model3.5/2_32/model39.pt','model3.5/2_64/model31.pt','model3.5/3_16/model27.pt','model3.5/3_32/model29.pt','model3.5/3_64/model29.pt','model3.5/4_10/model56.pt','model3.5/4_16/model50.pt','model3.5/4_32/model23.pt','model3.5/4_64/model68.pt']:\n",
    "    print(x)\n",
    "    second=x.split('/')[0]\n",
    "    second=second[5:]\n",
    "    val_dataloader=torch.load('val'+second+'_dataloader.pt')\n",
    "    test_dataloader=torch.load('test'+second+'_dataloader.pt')\n",
    "    model=torch.load(x)\n",
    "    get_metrics(x,model,val_dataloader)\n",
    "    get_metrics(x,model,test_dataloader)"
   ]
  }
 ],
 "metadata": {
  "kernelspec": {
   "display_name": "base",
   "language": "python",
   "name": "python3"
  },
  "language_info": {
   "codemirror_mode": {
    "name": "ipython",
    "version": 3
   },
   "file_extension": ".py",
   "mimetype": "text/x-python",
   "name": "python",
   "nbconvert_exporter": "python",
   "pygments_lexer": "ipython3",
   "version": "3.9.10"
  }
 },
 "nbformat": 4,
 "nbformat_minor": 2
}

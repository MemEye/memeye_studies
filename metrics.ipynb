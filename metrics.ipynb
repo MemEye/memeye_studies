{
 "cells": [
  {
   "cell_type": "code",
   "execution_count": 1,
   "metadata": {},
   "outputs": [],
   "source": [
    "from model import LSTMModel\n",
    "import torch\n",
    "import sklearn.metrics as metrics"
   ]
  },
  {
   "cell_type": "code",
   "execution_count": 6,
   "metadata": {},
   "outputs": [],
   "source": [
    "def get_metrics(model_name,model,dataloader):\n",
    "    model.eval()\n",
    "    total_correct=0\n",
    "    total=0\n",
    "    tp=[0]*6\n",
    "    fp=[0]*6\n",
    "    fn=[0]*6\n",
    "    tn=[0]*6\n",
    "    dict=[]\n",
    "    for i in range(6):\n",
    "        dict.append([0]*6)\n",
    "    for i,(x,y) in enumerate(dataloader):\n",
    "        y_pred=model(x)\n",
    "        y_pred=torch.argmax(y_pred,dim=1)\n",
    "        y=torch.argmax(y,dim=1)\n",
    "        total_correct+=torch.sum(y_pred==y).item()\n",
    "        total+=len(y)\n",
    "        for i in range(6):\n",
    "            tp[i]+=torch.sum((y_pred==i)&(y==i)).item()\n",
    "            fp[i]+=torch.sum((y_pred==i)&(y!=i)).item()\n",
    "            fn[i]+=torch.sum((y_pred!=i)&(y==i)).item()\n",
    "            tn[i]+=torch.sum((y_pred!=i)&(y!=i)).item()\n",
    "        for j in range(len(y)):\n",
    "            dict[y_pred[j]][y[j]]+=1\n",
    "    acc=total_correct/total\n",
    "    accuracy_per_class=[0]*6\n",
    "    precision=[0]*6\n",
    "    recall=[0]*6\n",
    "    f1=[0]*6\n",
    "    for i in range(6):\n",
    "        accuracy_per_class[i]=tp[i]/(tp[i]+fn[i])\n",
    "        if tp[i]+fp[i]!=0:\n",
    "            precision[i]=tp[i]/(tp[i]+fp[i])\n",
    "        if tp[i]+fn[i]!=0:\n",
    "            recall[i]=tp[i]/(tp[i]+fn[i])\n",
    "        if precision[i]+recall[i]!=0:\n",
    "            f1[i]=2*precision[i]*recall[i]/(precision[i]+recall[i])\n",
    "\n",
    "    print('Accuracy:',acc)\n",
    "    fpr=[fp[i]/(fp[i]+tn[i]) for i in range(6)]\n",
    "    fnr=[fn[i]/(fn[i]+tp[i]) for i in range(6)]\n",
    "    print('Classes:',['negative','learning','recall','recognition_familiar'])\n",
    "    for i in range(6):\n",
    "        print(accuracy_per_class[i],f1[i],recall[i],precision[i],fpr[i],fp[i],fnr[i],fn[i])\n",
    "    print('Confusion matrix:')\n",
    "    print(dict)\n",
    "\n",
    "\n"
   ]
  },
  {
   "cell_type": "code",
   "execution_count": null,
   "metadata": {},
   "outputs": [],
   "source": [
    "for x in ['model2.5/2_16/model53.pt','model2.5/2_32/model23.pt','model2.5/2_64/model30.pt','model2.5/3_16/model63.pt','model2.5/3_32/model29.pt','model2.5/3_64/model26.pt','model2.5/4_10/model29.pt','model2.5/4_16/model51.pt','model2.5/4_32/model48.pt','model2.5/4_64/model64.pt']:\n",
    "    print(x)\n",
    "    second=x.split('/')[0]\n",
    "    second=second[5:]\n",
    "    val_dataloader=torch.load('val'+second+'_dataloader.pt')\n",
    "    test_dataloader=torch.load('test'+second+'_dataloader.pt')\n",
    "    model=torch.load(x)\n",
    "    get_metrics(x,model,val_dataloader)\n",
    "    get_metrics(x,model,test_dataloader)"
   ]
  },
  {
   "cell_type": "code",
   "execution_count": null,
   "metadata": {},
   "outputs": [],
   "source": [
    "for x in ['model3/2_16/model45.pt','model3/2_32/model20.pt','model3/2_64/model25.pt','model3/3_16/model39.pt','model3/3_32/model29.pt','model3/3_64/model26.pt','model3/4_10/model30.pt','model3/4_16/model45.pt','model3/4_32/model37.pt','model3/4_64/model66.pt']:\n",
    "    print(x)\n",
    "    second=x.split('/')[0]\n",
    "    second=second[5:]\n",
    "    val_dataloader=torch.load('val'+second+'_dataloader.pt')\n",
    "    test_dataloader=torch.load('test'+second+'_dataloader.pt')\n",
    "    model=torch.load(x)\n",
    "    get_metrics(x,model,val_dataloader)\n",
    "    get_metrics(x,model,test_dataloader)"
   ]
  },
  {
   "cell_type": "code",
   "execution_count": 8,
   "metadata": {},
   "outputs": [
    {
     "name": "stdout",
     "output_type": "stream",
     "text": [
      "model3/3_32/model34.pt\n",
      "Accuracy: 0.7445339470655926\n",
      "Classes: ['negative', 'learning', 'recall', 'recognition_familiar']\n",
      "0.9087635054021609 0.9386236825790453 0.9087635054021609 0.9705128205128205 0.02541436464088398 23 0.09123649459783914 76\n",
      "0.9287671232876712 0.8681177976952624 0.9287671232876712 0.8149038461538461 0.056081573197378005 77 0.07123287671232877 26\n",
      "0.1949685534591195 0.23308270676691728 0.1949685534591195 0.2897196261682243 0.048131728942368585 76 0.8050314465408805 128\n",
      "0.2072072072072072 0.21800947867298578 0.2072072072072072 0.23 0.04732636754763368 77 0.7927927927927928 88\n",
      "0.5925925925925926 0.5043782837127846 0.5925925925925926 0.43902439024390244 0.12307692307692308 184 0.4074074074074074 99\n",
      "0.0 0 0.0 0.0 0.004091174751607247 7 1.0 27\n",
      "Confusion matrix:\n",
      "[[757, 12, 4, 6, 1, 0], [57, 339, 10, 3, 7, 0], [3, 2, 31, 15, 52, 4], [10, 5, 21, 23, 37, 4], [5, 7, 91, 62, 144, 19], [1, 0, 2, 2, 2, 0]]\n",
      "Accuracy: 0.7704517704517705\n",
      "Classes: ['negative', 'learning', 'recall', 'recognition_familiar']\n",
      "0.896849087893864 0.9364502164502164 0.896849087893864 0.9797101449275363 0.020603384841795438 56 0.10315091210613599 311\n",
      "0.9499089253187614 0.8594973217964564 0.9499089253187614 0.7848006019563581 0.06170442286947141 286 0.05009107468123861 55\n",
      "0.3229166666666667 0.32041343669250644 0.3229166666666667 0.31794871794871793 0.049728921293699754 266 0.6770833333333334 260\n",
      "0.215962441314554 0.22632226322263221 0.215962441314554 0.23772609819121446 0.05558696061805163 295 0.784037558685446 334\n",
      "0.6251728907330567 0.5768985322271857 0.6251728907330567 0.5355450236966824 0.0782435129740519 392 0.3748271092669433 271\n",
      "0.022988505747126436 0.03636363636363636 0.022988505747126436 0.08695652173913043 0.0037194473963868225 21 0.9770114942528736 85\n",
      "Confusion matrix:\n",
      "[[2704, 24, 19, 9, 4, 0], [225, 1043, 15, 19, 25, 2], [33, 5, 124, 133, 89, 6], [39, 16, 83, 92, 142, 15], [13, 10, 138, 169, 452, 62], [1, 0, 5, 4, 11, 2]]\n"
     ]
    }
   ],
   "source": [
    "for x in ['model3/3_32/model34.pt']:\n",
    "    print(x)\n",
    "    second=x.split('/')[0]\n",
    "    second=second[5:]\n",
    "    val_dataloader=torch.load('val'+second+'_dataloader.pt')\n",
    "    test_dataloader=torch.load('test'+second+'_dataloader.pt')\n",
    "    model=torch.load(x)\n",
    "    get_metrics(x,model,val_dataloader)\n",
    "    get_metrics(x,model,test_dataloader)"
   ]
  },
  {
   "cell_type": "code",
   "execution_count": 15,
   "metadata": {},
   "outputs": [
    {
     "data": {
      "text/plain": [
       "Text(0, 0.5, 'Predicted label')"
      ]
     },
     "execution_count": 15,
     "metadata": {},
     "output_type": "execute_result"
    },
    {
     "data": {
      "image/png": "[encoded data removed]",
      "text/plain": [
       "<Figure size 720x720 with 2 Axes>"
      ]
     },
     "metadata": {
      "needs_background": "light"
     },
     "output_type": "display_data"
    }
   ],
   "source": [
    "arr=[[757, 12, 4, 6, 1, 0], [57, 339, 10, 3, 7, 0], [3, 2, 31, 15, 52, 4], [10, 5, 21, 23, 37, 4], [5, 7, 91, 62, 144, 19], [1, 0, 2, 2, 2, 0]]\n",
    "#Plot confusion matrix\n",
    "import matplotlib.pyplot as plt\n",
    "import numpy as np\n",
    "\n",
    "fig, ax = plt.subplots()\n",
    "#Show values\n",
    "for i in range(6):\n",
    "    for j in range(6):\n",
    "        ax.text(j, i, arr[i][j], ha='center', va='center', color='black')\n",
    "cax = ax.matshow(arr, cmap='Blues')\n",
    "fig.colorbar(cax)\n",
    "#Make bigger plot\n",
    "fig.set_size_inches(10, 10)\n",
    "plt.xticks(np.arange(6),['negative','learning','recall_correct','recall_fail','recognition_correct','recognition_fail'])\n",
    "plt.yticks(np.arange(6),['negative','learning','recall_correct','recall_fail','recognition_correct','recognition_fail'])\n",
    "plt.xlabel('True label')\n",
    "plt.ylabel('Predicted label')\n",
    "\n"
   ]
  },
  {
   "cell_type": "code",
   "execution_count": null,
   "metadata": {},
   "outputs": [],
   "source": [
    "for x in ['model3.5/2_16/model43.pt','model3.5/2_32/model39.pt','model3.5/2_64/model31.pt','model3.5/3_16/model27.pt','model3.5/3_32/model29.pt','model3.5/3_64/model29.pt','model3.5/4_10/model56.pt','model3.5/4_16/model50.pt','model3.5/4_32/model23.pt','model3.5/4_64/model68.pt']:\n",
    "    print(x)\n",
    "    second=x.split('/')[0]\n",
    "    second=second[5:]\n",
    "    val_dataloader=torch.load('val'+second+'_dataloader.pt')\n",
    "    test_dataloader=torch.load('test'+second+'_dataloader.pt')\n",
    "    model=torch.load(x)\n",
    "    get_metrics(x,model,val_dataloader)\n",
    "    get_metrics(x,model,test_dataloader)"
   ]
  }
 ],
 "metadata": {
  "kernelspec": {
   "display_name": "base",
   "language": "python",
   "name": "python3"
  },
  "language_info": {
   "codemirror_mode": {
    "name": "ipython",
    "version": 3
   },
   "file_extension": ".py",
   "mimetype": "text/x-python",
   "name": "python",
   "nbconvert_exporter": "python",
   "pygments_lexer": "ipython3",
   "version": "3.9.10"
  }
 },
 "nbformat": 4,
 "nbformat_minor": 2
}

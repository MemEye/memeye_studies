{
 "cells": [
  {
   "cell_type": "code",
   "execution_count": 1,
   "metadata": {},
   "outputs": [],
   "source": [
    "from model import LSTMModel\n",
    "import torch\n",
    "import sklearn.metrics as metrics"
   ]
  },
  {
   "cell_type": "code",
   "execution_count": 2,
   "metadata": {},
   "outputs": [],
   "source": [
    "def get_metrics(model_name,model,dataloader):\n",
    "    model.eval()\n",
    "    total_correct=0\n",
    "    total=0\n",
    "    tp=[0]*4\n",
    "    fp=[0]*4\n",
    "    fn=[0]*4\n",
    "    tn=[0]*4\n",
    "    dict=[]\n",
    "    for i in range(4):\n",
    "        dict.append([0]*4)\n",
    "    for i,(x,y) in enumerate(dataloader):\n",
    "        y_pred=model(x)\n",
    "        y_pred=torch.argmax(y_pred,dim=1)\n",
    "        y=torch.argmax(y,dim=1)\n",
    "        total_correct+=torch.sum(y_pred==y).item()\n",
    "        total+=len(y)\n",
    "        for i in range(4):\n",
    "            tp[i]+=torch.sum((y_pred==i)&(y==i)).item()\n",
    "            fp[i]+=torch.sum((y_pred==i)&(y!=i)).item()\n",
    "            fn[i]+=torch.sum((y_pred!=i)&(y==i)).item()\n",
    "            tn[i]+=torch.sum((y_pred!=i)&(y!=i)).item()\n",
    "        for j in range(len(y)):\n",
    "            dict[y_pred[j]][y[j]]+=1\n",
    "    acc=total_correct/total\n",
    "    accuracy_per_class=[0]*4\n",
    "    precision=[0]*4\n",
    "    recall=[0]*4\n",
    "    f1=[0]*4\n",
    "    for i in range(4):\n",
    "        accuracy_per_class[i]=tp[i]/(tp[i]+fn[i])\n",
    "        if tp[i]+fp[i]!=0:\n",
    "            precision[i]=tp[i]/(tp[i]+fp[i])\n",
    "        if tp[i]+fn[i]!=0:\n",
    "            recall[i]=tp[i]/(tp[i]+fn[i])\n",
    "        if precision[i]+recall[i]!=0:\n",
    "            f1[i]=2*precision[i]*recall[i]/(precision[i]+recall[i])\n",
    "\n",
    "    print('Accuracy:',acc)\n",
    "    fpr=[fp[i]/(fp[i]+tn[i]) for i in range(4)]\n",
    "    fnr=[fn[i]/(fn[i]+tp[i]) for i in range(4)]\n",
    "    print('Classes:',['negative','learning','recall','recognition_familiar'])\n",
    "    for i in range(4):\n",
    "        print(accuracy_per_class[i],f1[i],recall[i],precision[i],fpr[i],fp[i],fnr[i],fn[i])\n",
    "    print('Confusion matrix:')\n",
    "    print(dict)\n",
    "\n",
    "\n"
   ]
  },
  {
   "cell_type": "code",
   "execution_count": 17,
   "metadata": {},
   "outputs": [],
   "source": [
    "from sklearn import metrics\n",
    "sf=torch.nn.Softmax()\n",
    "def get_aoc(model_name,model,dataloader):\n",
    "    ally_pred=[]\n",
    "    ally=[]\n",
    "    model.eval()\n",
    "    l=[]\n",
    "    for i,(x,y) in enumerate(dataloader):\n",
    "        y=torch.argmax(y,dim=1)\n",
    "        y=torch.nn.functional.one_hot(y,num_classes=4)\n",
    "        y_pred=model(x)\n",
    "        y_pred=sf(y_pred)\n",
    "        for i in range(len(y)):\n",
    "            ally.append(y[i])\n",
    "            ally_pred.append(y_pred[i].detach().numpy())\n",
    "    print(len(ally),len(ally_pred))\n",
    "    print(len(ally[0]),len(ally_pred[0]))\n",
    "    auc=metrics.roc_auc_score(ally,ally_pred,multi_class='ovr')\n",
    "    l.append(auc)\n",
    "    return l\n",
    "\n",
    "    "
   ]
  },
  {
   "cell_type": "code",
   "execution_count": 18,
   "metadata": {},
   "outputs": [
    {
     "name": "stdout",
     "output_type": "stream",
     "text": [
      "model2.5/2_16/model53.pt\n",
      "2585 2585\n",
      "4 4\n"
     ]
    },
    {
     "name": "stderr",
     "output_type": "stream",
     "text": [
      "/Users/saksham/opt/miniconda3/lib/python3.9/site-packages/sklearn/utils/multiclass.py:150: FutureWarning: The input object of type 'Tensor' is an array-like implementing one of the corresponding protocols (`__array__`, `__array_interface__` or `__array_struct__`); but not a sequence (or 0-D). In the future, this object will be coerced as if it was first converted using `np.array(obj)`. To retain the old behaviour, you have to either modify the type 'Tensor', or assign to an empty array created with `np.empty(correct_shape, dtype=object)`.\n",
      "  y = np.asarray(y)\n",
      "/Users/saksham/opt/miniconda3/lib/python3.9/site-packages/sklearn/utils/multiclass.py:154: FutureWarning: The input object of type 'Tensor' is an array-like implementing one of the corresponding protocols (`__array__`, `__array_interface__` or `__array_struct__`); but not a sequence (or 0-D). In the future, this object will be coerced as if it was first converted using `np.array(obj)`. To retain the old behaviour, you have to either modify the type 'Tensor', or assign to an empty array created with `np.empty(correct_shape, dtype=object)`.\n",
      "  y = np.array(y, dtype=object)\n",
      "/Users/saksham/opt/miniconda3/lib/python3.9/site-packages/sklearn/utils/multiclass.py:286: FutureWarning: The input object of type 'Tensor' is an array-like implementing one of the corresponding protocols (`__array__`, `__array_interface__` or `__array_struct__`); but not a sequence (or 0-D). In the future, this object will be coerced as if it was first converted using `np.array(obj)`. To retain the old behaviour, you have to either modify the type 'Tensor', or assign to an empty array created with `np.empty(correct_shape, dtype=object)`.\n",
      "  y = np.asarray(y)\n",
      "/Users/saksham/opt/miniconda3/lib/python3.9/site-packages/sklearn/utils/multiclass.py:290: FutureWarning: The input object of type 'Tensor' is an array-like implementing one of the corresponding protocols (`__array__`, `__array_interface__` or `__array_struct__`); but not a sequence (or 0-D). In the future, this object will be coerced as if it was first converted using `np.array(obj)`. To retain the old behaviour, you have to either modify the type 'Tensor', or assign to an empty array created with `np.empty(correct_shape, dtype=object)`.\n",
      "  y = np.asarray(y, dtype=object)\n",
      "/Users/saksham/opt/miniconda3/lib/python3.9/site-packages/sklearn/utils/validation.py:746: FutureWarning: The input object of type 'Tensor' is an array-like implementing one of the corresponding protocols (`__array__`, `__array_interface__` or `__array_struct__`); but not a sequence (or 0-D). In the future, this object will be coerced as if it was first converted using `np.array(obj)`. To retain the old behaviour, you have to either modify the type 'Tensor', or assign to an empty array created with `np.empty(correct_shape, dtype=object)`.\n",
      "  array = np.asarray(array, order=order, dtype=dtype)\n",
      "/Users/saksham/opt/miniconda3/lib/python3.9/site-packages/sklearn/utils/validation.py:746: VisibleDeprecationWarning: Creating an ndarray from ragged nested sequences (which is a list-or-tuple of lists-or-tuples-or ndarrays with different lengths or shapes) is deprecated. If you meant to do this, you must specify 'dtype=object' when creating the ndarray.\n",
      "  array = np.asarray(array, order=order, dtype=dtype)\n"
     ]
    },
    {
     "ename": "AttributeError",
     "evalue": "'bool' object has no attribute 'any'",
     "output_type": "error",
     "traceback": [
      "\u001b[0;31m---------------------------------------------------------------------------\u001b[0m",
      "\u001b[0;31mAttributeError\u001b[0m                            Traceback (most recent call last)",
      "Input \u001b[0;32mIn [18]\u001b[0m, in \u001b[0;36m<module>\u001b[0;34m\u001b[0m\n\u001b[1;32m      6\u001b[0m test_dataloader\u001b[38;5;241m=\u001b[39mtorch\u001b[38;5;241m.\u001b[39mload(\u001b[38;5;124m'\u001b[39m\u001b[38;5;124mtest\u001b[39m\u001b[38;5;124m'\u001b[39m\u001b[38;5;241m+\u001b[39msecond\u001b[38;5;241m+\u001b[39m\u001b[38;5;124m'\u001b[39m\u001b[38;5;124m_dataloader.pt\u001b[39m\u001b[38;5;124m'\u001b[39m)\n\u001b[1;32m      7\u001b[0m model\u001b[38;5;241m=\u001b[39mtorch\u001b[38;5;241m.\u001b[39mload(x)\n\u001b[0;32m----> 8\u001b[0m l1\u001b[38;5;241m=\u001b[39m \u001b[43mget_aoc\u001b[49m\u001b[43m(\u001b[49m\u001b[43mx\u001b[49m\u001b[43m,\u001b[49m\u001b[43mmodel\u001b[49m\u001b[43m,\u001b[49m\u001b[43mval_dataloader\u001b[49m\u001b[43m)\u001b[49m\n\u001b[1;32m      9\u001b[0m l2\u001b[38;5;241m=\u001b[39m get_aoc(x,model,test_dataloader)\n\u001b[1;32m     10\u001b[0m \u001b[38;5;28;01mfor\u001b[39;00m i \u001b[38;5;129;01min\u001b[39;00m \u001b[38;5;28mrange\u001b[39m(\u001b[38;5;241m4\u001b[39m):\n",
      "Input \u001b[0;32mIn [17]\u001b[0m, in \u001b[0;36mget_aoc\u001b[0;34m(model_name, model, dataloader)\u001b[0m\n\u001b[1;32m     16\u001b[0m \u001b[38;5;28mprint\u001b[39m(\u001b[38;5;28mlen\u001b[39m(ally),\u001b[38;5;28mlen\u001b[39m(ally_pred))\n\u001b[1;32m     17\u001b[0m \u001b[38;5;28mprint\u001b[39m(\u001b[38;5;28mlen\u001b[39m(ally[\u001b[38;5;241m0\u001b[39m]),\u001b[38;5;28mlen\u001b[39m(ally_pred[\u001b[38;5;241m0\u001b[39m]))\n\u001b[0;32m---> 18\u001b[0m auc\u001b[38;5;241m=\u001b[39m\u001b[43mmetrics\u001b[49m\u001b[38;5;241;43m.\u001b[39;49m\u001b[43mroc_auc_score\u001b[49m\u001b[43m(\u001b[49m\u001b[43mally\u001b[49m\u001b[43m,\u001b[49m\u001b[43mally_pred\u001b[49m\u001b[43m,\u001b[49m\u001b[43mmulti_class\u001b[49m\u001b[38;5;241;43m=\u001b[39;49m\u001b[38;5;124;43m'\u001b[39;49m\u001b[38;5;124;43movr\u001b[39;49m\u001b[38;5;124;43m'\u001b[39;49m\u001b[43m)\u001b[49m\n\u001b[1;32m     19\u001b[0m l\u001b[38;5;241m.\u001b[39mappend(auc)\n\u001b[1;32m     20\u001b[0m \u001b[38;5;28;01mreturn\u001b[39;00m l\n",
      "File \u001b[0;32m~/opt/miniconda3/lib/python3.9/site-packages/sklearn/metrics/_ranking.py:545\u001b[0m, in \u001b[0;36mroc_auc_score\u001b[0;34m(y_true, y_score, average, sample_weight, max_fpr, multi_class, labels)\u001b[0m\n\u001b[1;32m    373\u001b[0m \u001b[38;5;124;03m\"\"\"Compute Area Under the Receiver Operating Characteristic Curve (ROC AUC)\u001b[39;00m\n\u001b[1;32m    374\u001b[0m \u001b[38;5;124;03mfrom prediction scores.\u001b[39;00m\n\u001b[1;32m    375\u001b[0m \n\u001b[0;32m   (...)\u001b[0m\n\u001b[1;32m    541\u001b[0m \u001b[38;5;124;03marray([0.81..., 0.84... , 0.93..., 0.87..., 0.94...])\u001b[39;00m\n\u001b[1;32m    542\u001b[0m \u001b[38;5;124;03m\"\"\"\u001b[39;00m\n\u001b[1;32m    544\u001b[0m y_type \u001b[38;5;241m=\u001b[39m type_of_target(y_true)\n\u001b[0;32m--> 545\u001b[0m y_true \u001b[38;5;241m=\u001b[39m \u001b[43mcheck_array\u001b[49m\u001b[43m(\u001b[49m\u001b[43my_true\u001b[49m\u001b[43m,\u001b[49m\u001b[43m \u001b[49m\u001b[43mensure_2d\u001b[49m\u001b[38;5;241;43m=\u001b[39;49m\u001b[38;5;28;43;01mFalse\u001b[39;49;00m\u001b[43m,\u001b[49m\u001b[43m \u001b[49m\u001b[43mdtype\u001b[49m\u001b[38;5;241;43m=\u001b[39;49m\u001b[38;5;28;43;01mNone\u001b[39;49;00m\u001b[43m)\u001b[49m\n\u001b[1;32m    546\u001b[0m y_score \u001b[38;5;241m=\u001b[39m check_array(y_score, ensure_2d\u001b[38;5;241m=\u001b[39m\u001b[38;5;28;01mFalse\u001b[39;00m)\n\u001b[1;32m    548\u001b[0m \u001b[38;5;28;01mif\u001b[39;00m y_type \u001b[38;5;241m==\u001b[39m \u001b[38;5;124m\"\u001b[39m\u001b[38;5;124mmulticlass\u001b[39m\u001b[38;5;124m\"\u001b[39m \u001b[38;5;129;01mor\u001b[39;00m (\n\u001b[1;32m    549\u001b[0m     y_type \u001b[38;5;241m==\u001b[39m \u001b[38;5;124m\"\u001b[39m\u001b[38;5;124mbinary\u001b[39m\u001b[38;5;124m\"\u001b[39m \u001b[38;5;129;01mand\u001b[39;00m y_score\u001b[38;5;241m.\u001b[39mndim \u001b[38;5;241m==\u001b[39m \u001b[38;5;241m2\u001b[39m \u001b[38;5;129;01mand\u001b[39;00m y_score\u001b[38;5;241m.\u001b[39mshape[\u001b[38;5;241m1\u001b[39m] \u001b[38;5;241m>\u001b[39m \u001b[38;5;241m2\u001b[39m\n\u001b[1;32m    550\u001b[0m ):\n\u001b[1;32m    551\u001b[0m     \u001b[38;5;66;03m# do not support partial ROC computation for multiclass\u001b[39;00m\n",
      "File \u001b[0;32m~/opt/miniconda3/lib/python3.9/site-packages/sklearn/utils/validation.py:800\u001b[0m, in \u001b[0;36mcheck_array\u001b[0;34m(array, accept_sparse, accept_large_sparse, dtype, order, copy, force_all_finite, ensure_2d, allow_nd, ensure_min_samples, ensure_min_features, estimator)\u001b[0m\n\u001b[1;32m    794\u001b[0m         \u001b[38;5;28;01mraise\u001b[39;00m \u001b[38;5;167;01mValueError\u001b[39;00m(\n\u001b[1;32m    795\u001b[0m             \u001b[38;5;124m\"\u001b[39m\u001b[38;5;124mFound array with dim \u001b[39m\u001b[38;5;132;01m%d\u001b[39;00m\u001b[38;5;124m. \u001b[39m\u001b[38;5;132;01m%s\u001b[39;00m\u001b[38;5;124m expected <= 2.\u001b[39m\u001b[38;5;124m\"\u001b[39m\n\u001b[1;32m    796\u001b[0m             \u001b[38;5;241m%\u001b[39m (array\u001b[38;5;241m.\u001b[39mndim, estimator_name)\n\u001b[1;32m    797\u001b[0m         )\n\u001b[1;32m    799\u001b[0m     \u001b[38;5;28;01mif\u001b[39;00m force_all_finite:\n\u001b[0;32m--> 800\u001b[0m         \u001b[43m_assert_all_finite\u001b[49m\u001b[43m(\u001b[49m\u001b[43marray\u001b[49m\u001b[43m,\u001b[49m\u001b[43m \u001b[49m\u001b[43mallow_nan\u001b[49m\u001b[38;5;241;43m=\u001b[39;49m\u001b[43mforce_all_finite\u001b[49m\u001b[43m \u001b[49m\u001b[38;5;241;43m==\u001b[39;49m\u001b[43m \u001b[49m\u001b[38;5;124;43m\"\u001b[39;49m\u001b[38;5;124;43mallow-nan\u001b[39;49m\u001b[38;5;124;43m\"\u001b[39;49m\u001b[43m)\u001b[49m\n\u001b[1;32m    802\u001b[0m \u001b[38;5;28;01mif\u001b[39;00m ensure_min_samples \u001b[38;5;241m>\u001b[39m \u001b[38;5;241m0\u001b[39m:\n\u001b[1;32m    803\u001b[0m     n_samples \u001b[38;5;241m=\u001b[39m _num_samples(array)\n",
      "File \u001b[0;32m~/opt/miniconda3/lib/python3.9/site-packages/sklearn/utils/validation.py:121\u001b[0m, in \u001b[0;36m_assert_all_finite\u001b[0;34m(X, allow_nan, msg_dtype)\u001b[0m\n\u001b[1;32m    119\u001b[0m \u001b[38;5;66;03m# for object dtype data, we only check for NaNs (GH-13254)\u001b[39;00m\n\u001b[1;32m    120\u001b[0m \u001b[38;5;28;01melif\u001b[39;00m X\u001b[38;5;241m.\u001b[39mdtype \u001b[38;5;241m==\u001b[39m np\u001b[38;5;241m.\u001b[39mdtype(\u001b[38;5;124m\"\u001b[39m\u001b[38;5;124mobject\u001b[39m\u001b[38;5;124m\"\u001b[39m) \u001b[38;5;129;01mand\u001b[39;00m \u001b[38;5;129;01mnot\u001b[39;00m allow_nan:\n\u001b[0;32m--> 121\u001b[0m     \u001b[38;5;28;01mif\u001b[39;00m \u001b[43m_object_dtype_isnan\u001b[49m\u001b[43m(\u001b[49m\u001b[43mX\u001b[49m\u001b[43m)\u001b[49m\u001b[38;5;241;43m.\u001b[39;49m\u001b[43many\u001b[49m():\n\u001b[1;32m    122\u001b[0m         \u001b[38;5;28;01mraise\u001b[39;00m \u001b[38;5;167;01mValueError\u001b[39;00m(\u001b[38;5;124m\"\u001b[39m\u001b[38;5;124mInput contains NaN\u001b[39m\u001b[38;5;124m\"\u001b[39m)\n",
      "\u001b[0;31mAttributeError\u001b[0m: 'bool' object has no attribute 'any'"
     ]
    }
   ],
   "source": [
    "for x in ['model2.5/2_16/model53.pt','model2.5/2_32/model23.pt','model2.5/2_64/model30.pt','model2.5/3_16/model63.pt','model2.5/3_32/model29.pt','model2.5/3_64/model26.pt','model2.5/4_10/model29.pt','model2.5/4_16/model51.pt','model2.5/4_32/model48.pt','model2.5/4_64/model64.pt']:\n",
    "    print(x)\n",
    "    second=x.split('/')[0]\n",
    "    second=second[5:]\n",
    "    val_dataloader=torch.load('val'+second+'_dataloader.pt')\n",
    "    test_dataloader=torch.load('test'+second+'_dataloader.pt')\n",
    "    model=torch.load(x)\n",
    "    l1= get_aoc(x,model,val_dataloader)\n",
    "    l2= get_aoc(x,model,test_dataloader)\n",
    "    for i in range(4):\n",
    "        print(l1[i])\n",
    "        print(l2[i])\n",
    "        print('\\n')"
   ]
  },
  {
   "cell_type": "code",
   "execution_count": null,
   "metadata": {},
   "outputs": [],
   "source": [
    "for x in ['model3/2_16/model45.pt','model3/2_32/model20.pt','model3/2_64/model25.pt','model3/3_16/model39.pt','model3/3_32/model29.pt','model3/3_64/model26.pt','model3/4_10/model30.pt','model3/4_16/model45.pt','model3/4_32/model37.pt','model3/4_64/model66.pt']:\n",
    "    print(x)\n",
    "    second=x.split('/')[0]\n",
    "    second=second[5:]\n",
    "    val_dataloader=torch.load('val'+second+'_dataloader.pt')\n",
    "    test_dataloader=torch.load('test'+second+'_dataloader.pt')\n",
    "    model=torch.load(x)\n",
    "    l1= get_aoc(x,model,val_dataloader)\n",
    "    l2= get_aoc(x,model,test_dataloader)\n",
    "    for i in range(4):\n",
    "        print(l1[i])\n",
    "        print(l2[i])\n",
    "        print('\\n')"
   ]
  },
  {
   "cell_type": "code",
   "execution_count": null,
   "metadata": {},
   "outputs": [],
   "source": [
    "for x in ['model3.5/2_16/model43.pt','model3.5/2_32/model39.pt','model3.5/2_64/model31.pt','model3.5/3_16/model27.pt','model3.5/3_32/model29.pt','model3.5/3_64/model29.pt','model3.5/4_10/model56.pt','model3.5/4_16/model50.pt','model3.5/4_32/model23.pt','model3.5/4_64/model68.pt']:\n",
    "    print(x)\n",
    "    second=x.split('/')[0]\n",
    "    second=second[5:]\n",
    "    val_dataloader=torch.load('val'+second+'_dataloader.pt')\n",
    "    test_dataloader=torch.load('test'+second+'_dataloader.pt')\n",
    "    model=torch.load(x)\n",
    "    l1= get_aoc(x,model,val_dataloader)\n",
    "    l2= get_aoc(x,model,test_dataloader)\n",
    "    for i in range(4):\n",
    "        print(l1[i])\n",
    "        print(l2[i])\n",
    "        print('\\n')"
   ]
  }
 ],
 "metadata": {
  "kernelspec": {
   "display_name": "base",
   "language": "python",
   "name": "python3"
  },
  "language_info": {
   "codemirror_mode": {
    "name": "ipython",
    "version": 3
   },
   "file_extension": ".py",
   "mimetype": "text/x-python",
   "name": "python",
   "nbconvert_exporter": "python",
   "pygments_lexer": "ipython3",
   "version": "3.9.10"
  }
 },
 "nbformat": 4,
 "nbformat_minor": 2
}

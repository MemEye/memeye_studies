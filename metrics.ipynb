{
 "cells": [
  {
   "cell_type": "code",
   "execution_count": 2,
   "metadata": {},
   "outputs": [],
   "source": [
    "from model import LSTMModel\n",
    "import torch\n"
   ]
  },
  {
   "cell_type": "code",
   "execution_count": 3,
   "metadata": {},
   "outputs": [],
   "source": [
    "train_dataloader=torch.load('train4_3_dataloader.pt')\n",
    "val_dataloader=torch.load('val4_3_dataloader.pt')\n",
    "test_dataloader=torch.load('test4_3_dataloader.pt')"
   ]
  },
  {
   "cell_type": "code",
   "execution_count": 4,
   "metadata": {},
   "outputs": [],
   "source": [
    "def get_metrics(model,dataloader):\n",
    "    model.eval()\n",
    "    total_correct=0\n",
    "    total=0\n",
    "    tp=[0]*4\n",
    "    fp=[0]*4\n",
    "    fn=[0]*4\n",
    "    tn=[0]*4\n",
    "    for i,(x,y) in enumerate(dataloader):\n",
    "        y_pred=model(x)\n",
    "        y_pred=torch.argmax(y_pred,dim=1)\n",
    "        y=torch.argmax(y,dim=1)\n",
    "        total_correct+=torch.sum(y_pred==y).item()\n",
    "        total+=len(y)\n",
    "        for i in range(4):\n",
    "            tp[i]+=torch.sum((y_pred==i)&(y==i)).item()\n",
    "            fp[i]+=torch.sum((y_pred==i)&(y!=i)).item()\n",
    "            fn[i]+=torch.sum((y_pred!=i)&(y==i)).item()\n",
    "            tn[i]+=torch.sum((y_pred!=i)&(y!=i)).item()\n",
    "    acc=total_correct/total\n",
    "    accuracy_per_class=[0]*4\n",
    "    precision=[0]*4\n",
    "    recall=[0]*4\n",
    "    f1=[0]*4\n",
    "    for i in range(4):\n",
    "        accuracy_per_class[i]=tp[i]/(tp[i]+fn[i])\n",
    "        if tp[i]+fp[i]!=0:\n",
    "            precision[i]=tp[i]/(tp[i]+fp[i])\n",
    "        if tp[i]+fn[i]!=0:\n",
    "            recall[i]=tp[i]/(tp[i]+fn[i])\n",
    "        if precision[i]+recall[i]!=0:\n",
    "            f1[i]=2*precision[i]*recall[i]/(precision[i]+recall[i])\n",
    "    print('Accuracy:',acc)\n",
    "    print('Classes:',['negative','learning','recall','recognition_familiar','recognition_new'])\n",
    "    print('Accuracy per class:',accuracy_per_class)\n",
    "    print('Precision:',precision)\n",
    "    print('Recall:',recall)\n",
    "    print('F1:',f1)"
   ]
  },
  {
   "cell_type": "code",
   "execution_count": 5,
   "metadata": {},
   "outputs": [
    {
     "name": "stdout",
     "output_type": "stream",
     "text": [
      "Accuracy: 0.8217120585579163\n",
      "Classes: ['negative', 'learning', 'recall', 'recognition_familiar', 'recognition_new']\n",
      "Accuracy per class: [0.9377053864837834, 0.8252136752136752, 0.7242063492063492, 0.7417081260364843]\n",
      "Precision: [0.8653744725738397, 0.8607087140628482, 0.7218193803559657, 0.8100520715417704]\n",
      "Recall: [0.9377053864837834, 0.8252136752136752, 0.7242063492063492, 0.7417081260364843]\n",
      "F1: [0.9000891448947405, 0.8425875422711901, 0.7230108946847144, 0.7743750676333729]\n",
      "\n",
      "Accuracy: 0.8310249307479224\n",
      "Classes: ['negative', 'learning', 'recall', 'recognition_familiar', 'recognition_new']\n",
      "Accuracy per class: [0.8463385354141657, 0.8328767123287671, 0.804635761589404, 0.8379120879120879]\n",
      "Precision: [0.9375, 0.8611898016997167, 0.7617554858934169, 0.7210401891252955]\n",
      "Recall: [0.8463385354141657, 0.8328767123287671, 0.804635761589404, 0.8379120879120879]\n",
      "F1: [0.889589905362776, 0.8467966573816156, 0.7826086956521741, 0.7750952986022873]\n",
      "\n",
      "Accuracy: 0.8215388935692222\n",
      "Classes: ['negative', 'learning', 'recall', 'recognition_familiar', 'recognition_new']\n",
      "Accuracy per class: [0.8935323383084577, 0.7978142076502732, 0.743172268907563, 0.783710407239819]\n",
      "Precision: [0.9013047842087655, 0.8248587570621468, 0.773224043715847, 0.6978243352135375]\n",
      "Recall: [0.8935323383084577, 0.7978142076502732, 0.743172268907563, 0.783710407239819]\n",
      "F1: [0.8974017321785475, 0.8111111111111111, 0.7579003749330476, 0.7382779198635977]\n"
     ]
    }
   ],
   "source": [
    "model=torch.load('model4_3s/0.01_0.1_3_10/model70.pt')\n",
    "get_metrics(model,train_dataloader)\n",
    "print()\n",
    "get_metrics(model,val_dataloader)\n",
    "print()\n",
    "get_metrics(model,test_dataloader)"
   ]
  }
 ],
 "metadata": {
  "kernelspec": {
   "display_name": "base",
   "language": "python",
   "name": "python3"
  },
  "language_info": {
   "codemirror_mode": {
    "name": "ipython",
    "version": 3
   },
   "file_extension": ".py",
   "mimetype": "text/x-python",
   "name": "python",
   "nbconvert_exporter": "python",
   "pygments_lexer": "ipython3",
   "version": "3.9.10"
  }
 },
 "nbformat": 4,
 "nbformat_minor": 2
}
